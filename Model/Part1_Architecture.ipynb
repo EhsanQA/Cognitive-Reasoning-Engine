{
 "cells": [
  {
   "cell_type": "code",
   "execution_count": 21,
   "id": "4858106a-2e96-426a-b438-f6c0ca38d0df",
   "metadata": {},
   "outputs": [],
   "source": [
    "from tensorflow import keras as k"
   ]
  },
  {
   "cell_type": "code",
   "execution_count": 61,
   "id": "e9e6182f-3791-470d-bdf2-a8d5e31faac0",
   "metadata": {},
   "outputs": [],
   "source": [
    "n_words = 10000\n",
    "vector_space_dims = 500\n",
    "input_length = 100\n",
    "loss_function = 'cross_entropy'"
   ]
  },
  {
   "cell_type": "code",
   "execution_count": 73,
   "id": "ddba629a-f4f2-442d-8e64-790f55602489",
   "metadata": {},
   "outputs": [],
   "source": [
    "# input_layer = k.layers.Input(())\n",
    "class Part1:\n",
    "    def __init__(self, input_length, n_unique_words, vector_space_dims, dense_1_size, dense_2_size): \n",
    "        self.input_ = k.layers.Input((input_length,), name=\"input\")\n",
    "        self.Embedding_layer = k.layers.Embedding(n_unique_words, vector_space_dims, name=\"embedding\")\n",
    "        self.LSTM_layer = k.layers.Bidirectional(k.layers.LSTM(256), name=\"bi-LSTM\")\n",
    "        self.Dense1 = k.layers.Dense(100, activation='relu', name=\"Dense1\")\n",
    "        self.Dense2 = k.layers.Dense(100, activation='sigmoid', name=\"Dense2\")\n",
    "\n",
    "        self.Embed = Embedding_layer(input_)\n",
    "        self.Lstm = LSTM_layer(Embed)\n",
    "        self.Denses = Dense2(Dense1(Lstm))\n",
    "        self.Part1_out = Denses\n",
    "        self.model = k.Model(input_, Part1_out)\n",
    "        self.model.compile(loss=loss_function)\n",
    "        self.model.summary()\n",
    "        \n",
    "    def compile(self, loss_function):\n",
    "        self.model.compile(loss=loss_function)\n",
    "    \n",
    "    def summary(self):\n",
    "        self.model.summary()"
   ]
  },
  {
   "cell_type": "code",
   "execution_count": 74,
   "id": "e7c3e42a-c22f-429b-9cc3-120544d5257a",
   "metadata": {},
   "outputs": [
    {
     "name": "stdout",
     "output_type": "stream",
     "text": [
      "Model: \"model_10\"\n",
      "_________________________________________________________________\n",
      " Layer (type)                Output Shape              Param #   \n",
      "=================================================================\n",
      " input (InputLayer)          [(None, 100)]             0         \n",
      "                                                                 \n",
      " embedding (Embedding)       (None, 100, 500)          5000000   \n",
      "                                                                 \n",
      " bi-LSTM (Bidirectional)     (None, 512)               1550336   \n",
      "                                                                 \n",
      " Dense1 (Dense)              (None, 100)               51300     \n",
      "                                                                 \n",
      " Dense2 (Dense)              (None, 100)               10100     \n",
      "                                                                 \n",
      "=================================================================\n",
      "Total params: 6,611,736\n",
      "Trainable params: 6,611,736\n",
      "Non-trainable params: 0\n",
      "_________________________________________________________________\n"
     ]
    }
   ],
   "source": [
    "p1 = Part1(input_length, n_words, vector_space_dims, 100, 100)"
   ]
  },
  {
   "cell_type": "code",
   "execution_count": null,
   "id": "2302edc5-420b-468a-bfe9-b2f66af04278",
   "metadata": {},
   "outputs": [],
   "source": []
  }
 ],
 "metadata": {
  "kernelspec": {
   "display_name": "Python 3 (ipykernel)",
   "language": "python",
   "name": "python3"
  },
  "language_info": {
   "codemirror_mode": {
    "name": "ipython",
    "version": 3
   },
   "file_extension": ".py",
   "mimetype": "text/x-python",
   "name": "python",
   "nbconvert_exporter": "python",
   "pygments_lexer": "ipython3",
   "version": "3.9.13"
  }
 },
 "nbformat": 4,
 "nbformat_minor": 5
}
